{
  "nbformat": 4,
  "nbformat_minor": 0,
  "metadata": {
    "kernelspec": {
      "name": "python3",
      "display_name": "Python 3"
    },
    "language_info": {
      "codemirror_mode": {
        "name": "ipython",
        "version": 3
      },
      "file_extension": ".py",
      "mimetype": "text/x-python",
      "name": "python",
      "nbconvert_exporter": "python",
      "pygments_lexer": "ipython3",
      "version": "3.7.6"
    },
    "colab": {
      "name": "Copy of exam_var1.ipynb",
      "provenance": []
    }
  },
  "cells": [
    {
      "cell_type": "markdown",
      "metadata": {
        "id": "MpMBiHdz1SNp",
        "colab_type": "text"
      },
      "source": [
        "# Exam\n",
        "\n",
        "Develop a model for predicting review rating.  \n",
        "**Multiclass classification into 5 classes**  \n",
        "Score: **F1 with macro averaging**  \n",
        "You are forbidden to use test dataset for any kind of training.  \n",
        "Remember proper training pipeline.  \n",
        "If you are not using default params in the models, you have to use some validation scheme to justify them. \n",
        "\n",
        "Use `random_state` or `seed` params - your experiment must be reprodusible.\n",
        "\n",
        "\n",
        "### 1 baseline = 0.51\n",
        "### 2 baseline = 0.53\n"
      ]
    },
    {
      "cell_type": "markdown",
      "metadata": {
        "id": "QjcCBQ-Q1V_M",
        "colab_type": "text"
      },
      "source": [
        "## Question\n",
        "\n",
        "GPT-2 is the autoregressive model to solve Language Modelling task - predicting the most probable token given the context sequence. GPT-2 may be used for some other tasks like text classification but the is not the main purpose of that model. (based on the transformer architecture)\n",
        "\n",
        "BERT is the model to solve Masked Language Modelling task - substituting missing tokens. Originally it was also trained to predict if the second sentence is a continuation of the first taking them continuated in one sequence. For theat purpose BERT has additional segment embedding layer (works same as the other embeddings layers in BERT and GPT-2). Also BERT uses special classification token in the front of the whole sequence for classification tasks. One may take the last hidden state of that token for his classification purposes."
      ]
    },
    {
      "cell_type": "code",
      "metadata": {
        "id": "XhrK5b_S3EUK",
        "colab_type": "code",
        "colab": {}
      },
      "source": [
        "from zipfile import ZipFile\n",
        "\n",
        "with ZipFile('exam_data.zip', 'r') as zip_ref:\n",
        "    zip_ref.extractall('.')"
      ],
      "execution_count": 0,
      "outputs": []
    },
    {
      "cell_type": "code",
      "metadata": {
        "id": "bxvveZDi1SN6",
        "colab_type": "code",
        "colab": {}
      },
      "source": [
        "import pandas as pd\n",
        "from sklearn.feature_extraction.text import TfidfVectorizer, CountVectorizer\n",
        "from sklearn.svm import SVC\n",
        "from sklearn.linear_model import LogisticRegression\n",
        "from sklearn.metrics import f1_score\n",
        "from matplotlib import pyplot as plt"
      ],
      "execution_count": 0,
      "outputs": []
    },
    {
      "cell_type": "code",
      "metadata": {
        "id": "SUtO6Gsv8Pcl",
        "colab_type": "code",
        "colab": {}
      },
      "source": [
        "SEED = 42"
      ],
      "execution_count": 0,
      "outputs": []
    },
    {
      "cell_type": "code",
      "metadata": {
        "id": "BTlgo4eG1SOA",
        "colab_type": "code",
        "outputId": "23ed741e-51bf-499a-ee5e-570690a6fc0b",
        "colab": {
          "base_uri": "https://localhost:8080/",
          "height": 35
        }
      },
      "source": [
        "df_train = pd.read_csv('train.csv')\n",
        "df_test = pd.read_csv('test.csv')\n",
        "df_train.shape"
      ],
      "execution_count": 21,
      "outputs": [
        {
          "output_type": "execute_result",
          "data": {
            "text/plain": [
              "(48192, 3)"
            ]
          },
          "metadata": {
            "tags": []
          },
          "execution_count": 21
        }
      ]
    },
    {
      "cell_type": "code",
      "metadata": {
        "id": "d9fCXVkI4165",
        "colab_type": "code",
        "colab": {}
      },
      "source": [
        "df_train['cat'] = df_train['title'] + ' ' + df_train['review']"
      ],
      "execution_count": 0,
      "outputs": []
    },
    {
      "cell_type": "code",
      "metadata": {
        "id": "iEnn0A023V88",
        "colab_type": "code",
        "outputId": "574dbb66-243a-436f-8c6c-ef6b37de0df6",
        "colab": {
          "base_uri": "https://localhost:8080/",
          "height": 461
        }
      },
      "source": [
        "df_train[:10]"
      ],
      "execution_count": 51,
      "outputs": [
        {
          "output_type": "execute_result",
          "data": {
            "text/html": [
              "<div>\n",
              "<style scoped>\n",
              "    .dataframe tbody tr th:only-of-type {\n",
              "        vertical-align: middle;\n",
              "    }\n",
              "\n",
              "    .dataframe tbody tr th {\n",
              "        vertical-align: top;\n",
              "    }\n",
              "\n",
              "    .dataframe thead th {\n",
              "        text-align: right;\n",
              "    }\n",
              "</style>\n",
              "<table border=\"1\" class=\"dataframe\">\n",
              "  <thead>\n",
              "    <tr style=\"text-align: right;\">\n",
              "      <th></th>\n",
              "      <th>review</th>\n",
              "      <th>title</th>\n",
              "      <th>target</th>\n",
              "      <th>cat</th>\n",
              "    </tr>\n",
              "  </thead>\n",
              "  <tbody>\n",
              "    <tr>\n",
              "      <th>0</th>\n",
              "      <td>The staff was very friendly, the breakfast ver...</td>\n",
              "      <td>Walker Gem</td>\n",
              "      <td>5</td>\n",
              "      <td>Walker Gem The staff was very friendly, the br...</td>\n",
              "    </tr>\n",
              "    <tr>\n",
              "      <th>1</th>\n",
              "      <td>Excellent service - very approachable and prof...</td>\n",
              "      <td>Excellent Service</td>\n",
              "      <td>4</td>\n",
              "      <td>Excellent Service Excellent service - very app...</td>\n",
              "    </tr>\n",
              "    <tr>\n",
              "      <th>2</th>\n",
              "      <td>Really a top notch place to spend a day at the...</td>\n",
              "      <td>Good location, warm and friendly staff</td>\n",
              "      <td>5</td>\n",
              "      <td>Good location, warm and friendly staff Really ...</td>\n",
              "    </tr>\n",
              "    <tr>\n",
              "      <th>3</th>\n",
              "      <td>a little noisy, there was a false fire alarm a...</td>\n",
              "      <td>nice hotel,</td>\n",
              "      <td>4</td>\n",
              "      <td>nice hotel, a little noisy, there was a false ...</td>\n",
              "    </tr>\n",
              "    <tr>\n",
              "      <th>4</th>\n",
              "      <td>Place had too many animals and I'm allergic to...</td>\n",
              "      <td>Experience</td>\n",
              "      <td>3</td>\n",
              "      <td>Experience Place had too many animals and I'm ...</td>\n",
              "    </tr>\n",
              "    <tr>\n",
              "      <th>5</th>\n",
              "      <td>Hotel has a great location right on Virginia B...</td>\n",
              "      <td>great location, subpar staff</td>\n",
              "      <td>3</td>\n",
              "      <td>great location, subpar staff Hotel has a great...</td>\n",
              "    </tr>\n",
              "    <tr>\n",
              "      <th>6</th>\n",
              "      <td>The hotel was ok to stay just had minor things...</td>\n",
              "      <td>Hotel is close to shopping, restaurants, airport</td>\n",
              "      <td>3</td>\n",
              "      <td>Hotel is close to shopping, restaurants, airpo...</td>\n",
              "    </tr>\n",
              "    <tr>\n",
              "      <th>7</th>\n",
              "      <td>Stayed here on way to MB. Warm evening, left d...</td>\n",
              "      <td>Ok for one night</td>\n",
              "      <td>3</td>\n",
              "      <td>Ok for one night Stayed here on way to MB. War...</td>\n",
              "    </tr>\n",
              "    <tr>\n",
              "      <th>8</th>\n",
              "      <td>We wanted a quiet get away. We had a great tim...</td>\n",
              "      <td>great weekend</td>\n",
              "      <td>5</td>\n",
              "      <td>great weekend We wanted a quiet get away. We h...</td>\n",
              "    </tr>\n",
              "    <tr>\n",
              "      <th>9</th>\n",
              "      <td>Bad: Please take heed to this warning do not s...</td>\n",
              "      <td>Do not stay here cars broken into on property ...</td>\n",
              "      <td>1</td>\n",
              "      <td>Do not stay here cars broken into on property ...</td>\n",
              "    </tr>\n",
              "  </tbody>\n",
              "</table>\n",
              "</div>"
            ],
            "text/plain": [
              "                                              review  ...                                                cat\n",
              "0  The staff was very friendly, the breakfast ver...  ...  Walker Gem The staff was very friendly, the br...\n",
              "1  Excellent service - very approachable and prof...  ...  Excellent Service Excellent service - very app...\n",
              "2  Really a top notch place to spend a day at the...  ...  Good location, warm and friendly staff Really ...\n",
              "3  a little noisy, there was a false fire alarm a...  ...  nice hotel, a little noisy, there was a false ...\n",
              "4  Place had too many animals and I'm allergic to...  ...  Experience Place had too many animals and I'm ...\n",
              "5  Hotel has a great location right on Virginia B...  ...  great location, subpar staff Hotel has a great...\n",
              "6  The hotel was ok to stay just had minor things...  ...  Hotel is close to shopping, restaurants, airpo...\n",
              "7  Stayed here on way to MB. Warm evening, left d...  ...  Ok for one night Stayed here on way to MB. War...\n",
              "8  We wanted a quiet get away. We had a great tim...  ...  great weekend We wanted a quiet get away. We h...\n",
              "9  Bad: Please take heed to this warning do not s...  ...  Do not stay here cars broken into on property ...\n",
              "\n",
              "[10 rows x 4 columns]"
            ]
          },
          "metadata": {
            "tags": []
          },
          "execution_count": 51
        }
      ]
    },
    {
      "cell_type": "code",
      "metadata": {
        "id": "_Ytv5lok8bNC",
        "colab_type": "code",
        "colab": {
          "base_uri": "https://localhost:8080/",
          "height": 35
        },
        "outputId": "f3180177-ae56-45ba-d24f-4906750e081c"
      },
      "source": [
        "df_train.iloc[256]['review']"
      ],
      "execution_count": 52,
      "outputs": [
        {
          "output_type": "execute_result",
          "data": {
            "text/plain": [
              "'Room was a little dirty Murrow needed to be replaced with new mirror'"
            ]
          },
          "metadata": {
            "tags": []
          },
          "execution_count": 52
        }
      ]
    },
    {
      "cell_type": "code",
      "metadata": {
        "id": "3xD5w-uU8DeI",
        "colab_type": "code",
        "colab": {
          "base_uri": "https://localhost:8080/",
          "height": 337
        },
        "outputId": "4e09d8f9-b1e4-47a1-fbc2-c467a8a592c0"
      },
      "source": [
        "plt.hist(df_train.target)\n",
        "plt.show()"
      ],
      "execution_count": 53,
      "outputs": [
        {
          "output_type": "execute_result",
          "data": {
            "text/plain": [
              "(array([ 3742.,     0.,  3730.,     0.,     0.,  7380.,     0., 13789.,\n",
              "            0., 19551.]),\n",
              " array([1. , 1.4, 1.8, 2.2, 2.6, 3. , 3.4, 3.8, 4.2, 4.6, 5. ]),\n",
              " <a list of 10 Patch objects>)"
            ]
          },
          "metadata": {
            "tags": []
          },
          "execution_count": 53
        },
        {
          "output_type": "display_data",
          "data": {
            "image/png": "[encoded data removed]",
            "text/plain": [
              "<Figure size 432x288 with 1 Axes>"
            ]
          },
          "metadata": {
            "tags": []
          }
        }
      ]
    },
    {
      "cell_type": "code",
      "metadata": {
        "id": "J0okDidO53cF",
        "colab_type": "code",
        "outputId": "f3720205-b5f2-4268-8e6d-c84acad15aee",
        "colab": {
          "base_uri": "https://localhost:8080/",
          "height": 265
        }
      },
      "source": [
        "plt.hist([len(x.split()) for x in df_train.review], bins=100)\n",
        "plt.show()"
      ],
      "execution_count": 54,
      "outputs": [
        {
          "output_type": "display_data",
          "data": {
            "image/png": "[encoded data removed]",
            "text/plain": [
              "<Figure size 432x288 with 1 Axes>"
            ]
          },
          "metadata": {
            "tags": []
          }
        }
      ]
    },
    {
      "cell_type": "code",
      "metadata": {
        "id": "-xFgV7nN6Pih",
        "colab_type": "code",
        "colab": {}
      },
      "source": [
        "df_test['cat'] = df_test['title'] + ' ' + df_test['review']"
      ],
      "execution_count": 0,
      "outputs": []
    },
    {
      "cell_type": "code",
      "metadata": {
        "id": "eJp6nHnCQdDm",
        "colab_type": "code",
        "colab": {}
      },
      "source": [
        "from sklearn.pipeline import Pipeline"
      ],
      "execution_count": 0,
      "outputs": []
    },
    {
      "cell_type": "code",
      "metadata": {
        "id": "Tjx8Fw0gUMSo",
        "colab_type": "code",
        "colab": {}
      },
      "source": [
        "import numpy as np"
      ],
      "execution_count": 0,
      "outputs": []
    },
    {
      "cell_type": "code",
      "metadata": {
        "id": "oJXsuQr-4eqc",
        "colab_type": "code",
        "colab": {}
      },
      "source": [
        "tfidf_review = TfidfVectorizer(stop_words='english', max_features=3500, sublinear_tf=True, min_df=50,\n",
        "                       ngram_range=(1, 4))\n",
        "tfidf_title = TfidfVectorizer(stop_words='english', max_features=450, sublinear_tf=True, min_df=50,\n",
        "                       ngram_range=(1, 2))\n",
        "review_features = tfidf_review.fit_transform(df_train.review).toarray()\n",
        "title_features = tfidf_title.fit_transform(df_train.title).toarray()\n",
        "features = np.concatenate((title_features, review_features), axis=1)\n",
        "labels = df_train.target\n",
        "\n",
        "review_features = tfidf_review.transform(df_test.review).toarray()\n",
        "title_features = tfidf_title.transform(df_test.title).toarray()\n",
        "test_features = np.concatenate((title_features, review_features), axis=1)\n",
        "test_labels = df_test.target"
      ],
      "execution_count": 0,
      "outputs": []
    },
    {
      "cell_type": "code",
      "metadata": {
        "id": "aLf4ucUfV6OO",
        "colab_type": "code",
        "colab": {
          "base_uri": "https://localhost:8080/",
          "height": 35
        },
        "outputId": "847db8ee-521f-4e48-f339-e013194c9224"
      },
      "source": [
        "title_features.shape"
      ],
      "execution_count": 166,
      "outputs": [
        {
          "output_type": "execute_result",
          "data": {
            "text/plain": [
              "(5355, 450)"
            ]
          },
          "metadata": {
            "tags": []
          },
          "execution_count": 166
        }
      ]
    },
    {
      "cell_type": "code",
      "metadata": {
        "id": "pb3_XLWZCu0Z",
        "colab_type": "code",
        "colab": {
          "base_uri": "https://localhost:8080/",
          "height": 125
        },
        "outputId": "47f0ae08-e684-4d37-f1a3-8864755471b5"
      },
      "source": [
        "log_reg = LogisticRegression(random_state=SEED, verbose=True, max_iter=100, n_jobs=-1, warm_start=True)\n",
        "log_reg.fit(features, labels)"
      ],
      "execution_count": 167,
      "outputs": [
        {
          "output_type": "stream",
          "text": [
            "[Parallel(n_jobs=-1)]: Using backend LokyBackend with 2 concurrent workers.\n",
            "[Parallel(n_jobs=-1)]: Done   1 out of   1 | elapsed:  2.8min finished\n"
          ],
          "name": "stderr"
        },
        {
          "output_type": "execute_result",
          "data": {
            "text/plain": [
              "LogisticRegression(C=1.0, class_weight=None, dual=False, fit_intercept=True,\n",
              "                   intercept_scaling=1, l1_ratio=None, max_iter=100,\n",
              "                   multi_class='auto', n_jobs=-1, penalty='l2', random_state=42,\n",
              "                   solver='lbfgs', tol=0.0001, verbose=True, warm_start=True)"
            ]
          },
          "metadata": {
            "tags": []
          },
          "execution_count": 167
        }
      ]
    },
    {
      "cell_type": "code",
      "metadata": {
        "id": "L2r-Z-bvDCLc",
        "colab_type": "code",
        "colab": {
          "base_uri": "https://localhost:8080/",
          "height": 53
        },
        "outputId": "9f71135c-4f82-4ce4-afce-247458221016"
      },
      "source": [
        "print(f\"{f1_score(labels, log_reg.predict(features), average='macro'):.2f}\")\n",
        "print(f\"{f1_score(test_labels, log_reg.predict(test_features), average='macro'):.2f}\")"
      ],
      "execution_count": 168,
      "outputs": [
        {
          "output_type": "stream",
          "text": [
            "0.62\n",
            "0.51\n"
          ],
          "name": "stdout"
        }
      ]
    },
    {
      "cell_type": "code",
      "metadata": {
        "id": "YlN8Vi4RcGCj",
        "colab_type": "code",
        "colab": {}
      },
      "source": [
        ""
      ],
      "execution_count": 0,
      "outputs": []
    }
  ]
}