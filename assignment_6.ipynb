{
  "nbformat": 4,
  "nbformat_minor": 0,
  "metadata": {
    "colab": {
      "name": "hse_assignment_6.ipynb",
      "provenance": [],
      "collapsed_sections": [],
      "toc_visible": true
    },
    "kernelspec": {
      "name": "python3",
      "display_name": "Python 3"
    },
    "accelerator": "GPU"
  },
  "cells": [
    {
      "cell_type": "code",
      "metadata": {
        "id": "TLDLkqbe7Lrb",
        "colab": {
          "base_uri": "https://localhost:8080/",
          "height": 34
        },
        "outputId": "c6b2cad0-76ca-4fbd-9088-5e7b8e510c98"
      },
      "source": [
        "from google.colab import drive\n",
        "drive.mount('/content/drive')"
      ],
      "execution_count": null,
      "outputs": [
        {
          "output_type": "stream",
          "text": [
            "Drive already mounted at /content/drive; to attempt to forcibly remount, call drive.mount(\"/content/drive\", force_remount=True).\n"
          ],
          "name": "stdout"
        }
      ]
    },
    {
      "cell_type": "code",
      "metadata": {
        "id": "7dz-qt75eIHS"
      },
      "source": [
        "import torch\n",
        "from torch import nn\n",
        "from torch import functional as F\n",
        "\n",
        "import torchtext\n",
        "from torchtext.datasets import WikiText2\n",
        "from torchtext import data\n",
        "\n",
        "import numpy as np"
      ],
      "execution_count": null,
      "outputs": []
    },
    {
      "cell_type": "code",
      "metadata": {
        "id": "BYvZwforeVxo",
        "colab": {
          "base_uri": "https://localhost:8080/",
          "height": 34
        },
        "outputId": "d18f7c0e-f0e4-4971-a93b-6ef0dd94f95c"
      },
      "source": [
        "!pip install sentencepiece"
      ],
      "execution_count": null,
      "outputs": [
        {
          "output_type": "stream",
          "text": [
            "Requirement already satisfied: sentencepiece in /usr/local/lib/python3.6/dist-packages (0.1.85)\n"
          ],
          "name": "stdout"
        }
      ]
    },
    {
      "cell_type": "code",
      "metadata": {
        "id": "Jju9xtOeeaxY"
      },
      "source": [
        "import sentencepiece as spm"
      ],
      "execution_count": null,
      "outputs": []
    },
    {
      "cell_type": "code",
      "metadata": {
        "id": "kdFpj22tjueJ",
        "colab": {
          "base_uri": "https://localhost:8080/",
          "height": 34
        },
        "outputId": "a9d8243d-a61b-4d0c-ad46-4793da61242f"
      },
      "source": [
        "device = torch.device('cuda:0' if torch.cuda.is_available() else 'cpu')\n",
        "print(device)"
      ],
      "execution_count": null,
      "outputs": [
        {
          "output_type": "stream",
          "text": [
            "cuda:0\n"
          ],
          "name": "stdout"
        }
      ]
    },
    {
      "cell_type": "code",
      "metadata": {
        "id": "t-eL1jnV8iH7",
        "colab": {
          "base_uri": "https://localhost:8080/",
          "height": 34
        },
        "outputId": "97a8295f-18b0-4721-b833-d269ca5088a2"
      },
      "source": [
        "!ls"
      ],
      "execution_count": null,
      "outputs": [
        {
          "output_type": "stream",
          "text": [
            "drive  sample_data  spm.model  spm.vocab  wikitext2_train.txt\n"
          ],
          "name": "stdout"
        }
      ]
    },
    {
      "cell_type": "code",
      "metadata": {
        "id": "uDf6KN4w8MFV"
      },
      "source": [
        "!cp drive/My\\ Drive/wikitext2_train.txt wikitext2_train.txt"
      ],
      "execution_count": null,
      "outputs": []
    },
    {
      "cell_type": "code",
      "metadata": {
        "id": "M-_sbGid80hR"
      },
      "source": [
        "VOCAB_SIZE = 16000\n",
        "BATCH_SIZE = 512\n",
        "HIDDEN_SIZE = 512\n",
        "BPTT_LEN = 50\n",
        "N_EPOCHS = 100\n",
        "\n",
        "checkpoint = 'drive/My Drive/rnn_lm.pt'"
      ],
      "execution_count": null,
      "outputs": []
    },
    {
      "cell_type": "code",
      "metadata": {
        "id": "kxkYgAGrxNzD",
        "colab": {
          "base_uri": "https://localhost:8080/",
          "height": 34
        },
        "outputId": "a240d0b5-33e0-444c-e610-55a50f28beb1"
      },
      "source": [
        "spm.SentencePieceTrainer.Train('--input=wikitext2_train.txt --model_prefix=spm --vocab_size='+str(VOCAB_SIZE))"
      ],
      "execution_count": null,
      "outputs": [
        {
          "output_type": "execute_result",
          "data": {
            "text/plain": [
              "True"
            ]
          },
          "metadata": {
            "tags": []
          },
          "execution_count": 9
        }
      ]
    },
    {
      "cell_type": "code",
      "metadata": {
        "id": "QLEh6X0FyodG",
        "colab": {
          "base_uri": "https://localhost:8080/",
          "height": 34
        },
        "outputId": "13c52bb2-328b-4959-d6bb-eedf7524fc97"
      },
      "source": [
        "sp = spm.SentencePieceProcessor()\n",
        "sp.Load(\"spm.model\")"
      ],
      "execution_count": null,
      "outputs": [
        {
          "output_type": "execute_result",
          "data": {
            "text/plain": [
              "True"
            ]
          },
          "metadata": {
            "tags": []
          },
          "execution_count": 10
        }
      ]
    },
    {
      "cell_type": "code",
      "metadata": {
        "id": "OGIvHPJwyb1B"
      },
      "source": [
        "TEXT = torchtext.data.Field(lower=True, tokenize=sp.EncodeAsPieces)"
      ],
      "execution_count": null,
      "outputs": []
    },
    {
      "cell_type": "code",
      "metadata": {
        "id": "mFG62pVthobW"
      },
      "source": [
        "train, valid, test = torchtext.datasets.WikiText2.splits(TEXT)"
      ],
      "execution_count": null,
      "outputs": []
    },
    {
      "cell_type": "code",
      "metadata": {
        "id": "OKH_yewn2dqX"
      },
      "source": [
        "TEXT.build_vocab(train, max_size=VOCAB_SIZE+10)"
      ],
      "execution_count": null,
      "outputs": []
    },
    {
      "cell_type": "code",
      "metadata": {
        "id": "tER9au71zchX"
      },
      "source": [
        "train_iter, valid_iter, test_iter = data.BPTTIterator.splits(\n",
        "    (train, valid, test),\n",
        "    batch_size=BATCH_SIZE,\n",
        "    bptt_len=BPTT_LEN,\n",
        "    device=device,\n",
        "    repeat=False)"
      ],
      "execution_count": null,
      "outputs": []
    },
    {
      "cell_type": "code",
      "metadata": {
        "id": "gLSWVJvcgGfw"
      },
      "source": [
        "class RnnWithHeadLM(nn.Module):\n",
        "    def __init__(self, ntoken, ninp,\n",
        "                 nhid, nlayers,\n",
        "                 dropout=0.5, tie_weights=True):\n",
        "        super(RNNModel, self).__init__()\n",
        "        self.nhid, self.nlayers = nhid, nlayers\n",
        "        self.drop = nn.Dropout(dropout)\n",
        "        self.encoder = nn.Embedding(ntoken, ninp)\n",
        "        self.rnn = nn.RNN(ninp, nhid, nlayers, dropout=dropout)\n",
        "        self.decoder = nn.Linear(nhid, ntoken)\n",
        "\n",
        "        self.hidden = None\n",
        " \n",
        "    def forward(self, input, hidden=None):\n",
        "        hidden = self.hidden if hidden is None else hidden\n",
        "        emb = self.drop(self.encoder(input))\n",
        "        output, hidden = self.rnn(emb, hidden)\n",
        "        self.hidden = hidden \n",
        "        output = self.drop(output)\n",
        "        decoded = self.decoder(output.view(output.size(0)*output.size(1), output.size(2)))\n",
        "        return decoded.view(output.size(0), output.size(1), decoded.size(1))\n",
        "  \n",
        "    def reset_history(self):\n",
        "        if self.hidden is None:\n",
        "            return None\n",
        "        self.hidden = self.hidden.data"
      ],
      "execution_count": null,
      "outputs": []
    },
    {
      "cell_type": "code",
      "metadata": {
        "id": "OrmAJYrk0QlL",
        "colab": {
          "base_uri": "https://localhost:8080/",
          "height": 173
        },
        "outputId": "6dedf5ac-bc4b-4999-a5d1-961c79ba0434"
      },
      "source": [
        "model = RnnWithHeadLM(VOCAB_SIZE, HIDDEN_SIZE, HIDDEN_SIZE, 1)\n",
        "model.to(device)"
      ],
      "execution_count": null,
      "outputs": [
        {
          "output_type": "stream",
          "text": [
            "/usr/local/lib/python3.6/dist-packages/torch/nn/modules/rnn.py:51: UserWarning: dropout option adds dropout after all but last recurrent layer, so non-zero dropout expects num_layers greater than 1, but got dropout=0.5 and num_layers=1\n",
            "  \"num_layers={}\".format(dropout, num_layers))\n"
          ],
          "name": "stderr"
        },
        {
          "output_type": "execute_result",
          "data": {
            "text/plain": [
              "RNNModel(\n",
              "  (drop): Dropout(p=0.5, inplace=False)\n",
              "  (encoder): Embedding(16000, 512)\n",
              "  (rnn): RNN(512, 512, dropout=0.5)\n",
              "  (decoder): Linear(in_features=512, out_features=16000, bias=True)\n",
              ")"
            ]
          },
          "metadata": {
            "tags": []
          },
          "execution_count": 16
        }
      ]
    },
    {
      "cell_type": "code",
      "metadata": {
        "id": "cJItmIMy011o"
      },
      "source": [
        "criterion = nn.CrossEntropyLoss()\n",
        "optimizer = torch.optim.Adam(model.parameters(), lr=1e-3)"
      ],
      "execution_count": null,
      "outputs": []
    },
    {
      "cell_type": "code",
      "metadata": {
        "id": "EIMbW1Xt1fje"
      },
      "source": [
        "def train_epoch(epoch):\n",
        "    tr_history = []\n",
        "    tr_loss = 0\n",
        "    model.train()\n",
        "    for batch in train_iter:\n",
        "      model.reset_history()\n",
        "      optimizer.zero_grad()\n",
        "\n",
        "      text, targets = batch.text, batch.target\n",
        "      prediction = model(text)\n",
        "      loss = criterion(prediction.view(-1, VOCAB_SIZE), targets.view(-1))\n",
        "      loss.backward()\n",
        "\n",
        "      optimizer.step()\n",
        "\n",
        "      tr_history.append(loss.item())\n",
        "      tr_loss += loss.item() * prediction.size(0) * prediction.size(1)\n",
        "\n",
        "    tr_loss /= len(train.examples[0].text)\n",
        "\n",
        "    val_loss = 0\n",
        "    model.eval()\n",
        "    for batch in valid_iter:\n",
        "        model.reset_history()\n",
        "        text, targets = batch.text, batch.target\n",
        "        prediction = model(text)\n",
        "        loss = criterion(prediction.view(-1, VOCAB_SIZE), targets.view(-1))\n",
        "        val_loss += loss.item() * prediction.size(0) * prediction.size(1)\n",
        "    val_loss /= len(valid.examples[0].text)\n",
        "\n",
        "    return tr_loss, tr_history, val_loss"
      ],
      "execution_count": null,
      "outputs": []
    },
    {
      "cell_type": "code",
      "metadata": {
        "id": "4bEK3ms_lAiv"
      },
      "source": [
        "checkpoint = None"
      ],
      "execution_count": null,
      "outputs": []
    },
    {
      "cell_type": "code",
      "metadata": {
        "id": "bQ_2q7UJZTcX"
      },
      "source": [
        "if checkpoint is not None:\n",
        "    check = torch.load(checkpoint)\n",
        "    model.load_state_dict(check['model'])\n",
        "    optimizer.load_state_dict(check['optimizer'])\n",
        "    tr_history = check['tr_history']\n",
        "    val_history = check['val_history']\n",
        "    epoch = check['epoch']\n",
        "else:\n",
        "    tr_history = []\n",
        "    val_history = []\n",
        "    epoch = 0"
      ],
      "execution_count": null,
      "outputs": []
    },
    {
      "cell_type": "code",
      "metadata": {
        "id": "_rPHr0g92D9m",
        "colab": {
          "base_uri": "https://localhost:8080/",
          "height": 660
        },
        "outputId": "50692e6f-7287-486f-a3b1-4486dee02147"
      },
      "source": [
        "from matplotlib import pyplot as plt\n",
        "from IPython.display import clear_output\n",
        "\n",
        "for epoch in range(epoch, N_EPOCHS):\n",
        "    tr_loss, tr_hist, val_loss = train_epoch(epoch)\n",
        "    tr_history += tr_hist\n",
        "    val_history += [val_loss] #[val_loss]*len(tr_hist)\n",
        "    torch.save({\n",
        "        'model': model.state_dict(),\n",
        "        'optimizer': optimizer.state_dict(),\n",
        "        'tr_history': tr_history,\n",
        "        'val_history': val_history,\n",
        "        'epoch': epoch+1,\n",
        "    }, 'drive/My Drive/rnn_lm.pt')\n",
        "\n",
        "    clear_output()\n",
        "    print(f'Epoch: {epoch}, Training Loss: {tr_loss:.4f}, Validation Loss: {val_loss:.4f}')\n",
        "    plt.plot(tr_history, label='train loss')\n",
        "    plt.plot([(i+1)*len(tr_hist) for i in range(epoch+1)], val_history, label='val loss')\n",
        "    plt.legend()\n",
        "    plt.show()"
      ],
      "execution_count": null,
      "outputs": [
        {
          "output_type": "stream",
          "text": [
            "Epoch: 52, Training Loss: 3.9548, Validation Loss: 3.7005\n"
          ],
          "name": "stdout"
        },
        {
          "output_type": "display_data",
          "data": {
            "image/png": "[encoded data removed]",
            "text/plain": [
              "<Figure size 432x288 with 1 Axes>"
            ]
          },
          "metadata": {
            "tags": []
          }
        },
        {
          "output_type": "error",
          "ename": "KeyboardInterrupt",
          "evalue": "ignored",
          "traceback": [
            "\u001b[0;31m---------------------------------------------------------------------------\u001b[0m",
            "\u001b[0;31mKeyboardInterrupt\u001b[0m                         Traceback (most recent call last)",
            "\u001b[0;32m<ipython-input-21-2724a0f2c3b3>\u001b[0m in \u001b[0;36m<module>\u001b[0;34m()\u001b[0m\n\u001b[1;32m      3\u001b[0m \u001b[0;34m\u001b[0m\u001b[0m\n\u001b[1;32m      4\u001b[0m \u001b[0;32mfor\u001b[0m \u001b[0mepoch\u001b[0m \u001b[0;32min\u001b[0m \u001b[0mrange\u001b[0m\u001b[0;34m(\u001b[0m\u001b[0mepoch\u001b[0m\u001b[0;34m,\u001b[0m \u001b[0mN_EPOCHS\u001b[0m\u001b[0;34m)\u001b[0m\u001b[0;34m:\u001b[0m\u001b[0;34m\u001b[0m\u001b[0;34m\u001b[0m\u001b[0m\n\u001b[0;32m----> 5\u001b[0;31m     \u001b[0mtr_loss\u001b[0m\u001b[0;34m,\u001b[0m \u001b[0mtr_hist\u001b[0m\u001b[0;34m,\u001b[0m \u001b[0mval_loss\u001b[0m \u001b[0;34m=\u001b[0m \u001b[0mtrain_epoch\u001b[0m\u001b[0;34m(\u001b[0m\u001b[0mepoch\u001b[0m\u001b[0;34m)\u001b[0m\u001b[0;34m\u001b[0m\u001b[0;34m\u001b[0m\u001b[0m\n\u001b[0m\u001b[1;32m      6\u001b[0m     \u001b[0mtr_history\u001b[0m \u001b[0;34m+=\u001b[0m \u001b[0mtr_hist\u001b[0m\u001b[0;34m\u001b[0m\u001b[0;34m\u001b[0m\u001b[0m\n\u001b[1;32m      7\u001b[0m     \u001b[0mval_history\u001b[0m \u001b[0;34m+=\u001b[0m \u001b[0;34m[\u001b[0m\u001b[0mval_loss\u001b[0m\u001b[0;34m]\u001b[0m \u001b[0;31m#[val_loss]*len(tr_hist)\u001b[0m\u001b[0;34m\u001b[0m\u001b[0;34m\u001b[0m\u001b[0m\n",
            "\u001b[0;32m<ipython-input-18-2e61738b8443>\u001b[0m in \u001b[0;36mtrain_epoch\u001b[0;34m(epoch)\u001b[0m\n\u001b[1;32m     10\u001b[0m       \u001b[0mprediction\u001b[0m \u001b[0;34m=\u001b[0m \u001b[0mmodel\u001b[0m\u001b[0;34m(\u001b[0m\u001b[0mtext\u001b[0m\u001b[0;34m)\u001b[0m\u001b[0;34m\u001b[0m\u001b[0;34m\u001b[0m\u001b[0m\n\u001b[1;32m     11\u001b[0m       \u001b[0mloss\u001b[0m \u001b[0;34m=\u001b[0m \u001b[0mcriterion\u001b[0m\u001b[0;34m(\u001b[0m\u001b[0mprediction\u001b[0m\u001b[0;34m.\u001b[0m\u001b[0mview\u001b[0m\u001b[0;34m(\u001b[0m\u001b[0;34m-\u001b[0m\u001b[0;36m1\u001b[0m\u001b[0;34m,\u001b[0m \u001b[0mVOCAB_SIZE\u001b[0m\u001b[0;34m)\u001b[0m\u001b[0;34m,\u001b[0m \u001b[0mtargets\u001b[0m\u001b[0;34m.\u001b[0m\u001b[0mview\u001b[0m\u001b[0;34m(\u001b[0m\u001b[0;34m-\u001b[0m\u001b[0;36m1\u001b[0m\u001b[0;34m)\u001b[0m\u001b[0;34m)\u001b[0m\u001b[0;34m\u001b[0m\u001b[0;34m\u001b[0m\u001b[0m\n\u001b[0;32m---> 12\u001b[0;31m       \u001b[0mloss\u001b[0m\u001b[0;34m.\u001b[0m\u001b[0mbackward\u001b[0m\u001b[0;34m(\u001b[0m\u001b[0;34m)\u001b[0m\u001b[0;34m\u001b[0m\u001b[0;34m\u001b[0m\u001b[0m\n\u001b[0m\u001b[1;32m     13\u001b[0m \u001b[0;34m\u001b[0m\u001b[0m\n\u001b[1;32m     14\u001b[0m       \u001b[0moptimizer\u001b[0m\u001b[0;34m.\u001b[0m\u001b[0mstep\u001b[0m\u001b[0;34m(\u001b[0m\u001b[0;34m)\u001b[0m\u001b[0;34m\u001b[0m\u001b[0;34m\u001b[0m\u001b[0m\n",
            "\u001b[0;32m/usr/local/lib/python3.6/dist-packages/torch/tensor.py\u001b[0m in \u001b[0;36mbackward\u001b[0;34m(self, gradient, retain_graph, create_graph)\u001b[0m\n\u001b[1;32m    164\u001b[0m                 \u001b[0mproducts\u001b[0m\u001b[0;34m.\u001b[0m \u001b[0mDefaults\u001b[0m \u001b[0mto\u001b[0m\u001b[0;31m \u001b[0m\u001b[0;31m`\u001b[0m\u001b[0;31m`\u001b[0m\u001b[0;32mFalse\u001b[0m\u001b[0;31m`\u001b[0m\u001b[0;31m`\u001b[0m\u001b[0;34m.\u001b[0m\u001b[0;34m\u001b[0m\u001b[0;34m\u001b[0m\u001b[0m\n\u001b[1;32m    165\u001b[0m         \"\"\"\n\u001b[0;32m--> 166\u001b[0;31m         \u001b[0mtorch\u001b[0m\u001b[0;34m.\u001b[0m\u001b[0mautograd\u001b[0m\u001b[0;34m.\u001b[0m\u001b[0mbackward\u001b[0m\u001b[0;34m(\u001b[0m\u001b[0mself\u001b[0m\u001b[0;34m,\u001b[0m \u001b[0mgradient\u001b[0m\u001b[0;34m,\u001b[0m \u001b[0mretain_graph\u001b[0m\u001b[0;34m,\u001b[0m \u001b[0mcreate_graph\u001b[0m\u001b[0;34m)\u001b[0m\u001b[0;34m\u001b[0m\u001b[0;34m\u001b[0m\u001b[0m\n\u001b[0m\u001b[1;32m    167\u001b[0m \u001b[0;34m\u001b[0m\u001b[0m\n\u001b[1;32m    168\u001b[0m     \u001b[0;32mdef\u001b[0m \u001b[0mregister_hook\u001b[0m\u001b[0;34m(\u001b[0m\u001b[0mself\u001b[0m\u001b[0;34m,\u001b[0m \u001b[0mhook\u001b[0m\u001b[0;34m)\u001b[0m\u001b[0;34m:\u001b[0m\u001b[0;34m\u001b[0m\u001b[0;34m\u001b[0m\u001b[0m\n",
            "\u001b[0;32m/usr/local/lib/python3.6/dist-packages/torch/autograd/__init__.py\u001b[0m in \u001b[0;36mbackward\u001b[0;34m(tensors, grad_tensors, retain_graph, create_graph, grad_variables)\u001b[0m\n\u001b[1;32m     97\u001b[0m     Variable._execution_engine.run_backward(\n\u001b[1;32m     98\u001b[0m         \u001b[0mtensors\u001b[0m\u001b[0;34m,\u001b[0m \u001b[0mgrad_tensors\u001b[0m\u001b[0;34m,\u001b[0m \u001b[0mretain_graph\u001b[0m\u001b[0;34m,\u001b[0m \u001b[0mcreate_graph\u001b[0m\u001b[0;34m,\u001b[0m\u001b[0;34m\u001b[0m\u001b[0;34m\u001b[0m\u001b[0m\n\u001b[0;32m---> 99\u001b[0;31m         allow_unreachable=True)  # allow_unreachable flag\n\u001b[0m\u001b[1;32m    100\u001b[0m \u001b[0;34m\u001b[0m\u001b[0m\n\u001b[1;32m    101\u001b[0m \u001b[0;34m\u001b[0m\u001b[0m\n",
            "\u001b[0;31mKeyboardInterrupt\u001b[0m: "
          ]
        }
      ]
    },
    {
      "cell_type": "code",
      "metadata": {
        "id": "JoEIz0DXZzqD",
        "colab": {
          "base_uri": "https://localhost:8080/",
          "height": 297
        },
        "outputId": "dbc5a263-1a77-4b0e-f6d1-8c733ebf4175"
      },
      "source": [
        "from matplotlib import pyplot as plt\n",
        "\n",
        "plt.plot(tr_history, label='train loss')\n",
        "plt.plot([(i+1)*len(tr_hist) for i in range(len(val_history))], val_history, label='val loss')\n",
        "plt.xlabel('# iterations')\n",
        "plt.legend()"
      ],
      "execution_count": null,
      "outputs": [
        {
          "output_type": "execute_result",
          "data": {
            "text/plain": [
              "<matplotlib.legend.Legend at 0x7f88a0509780>"
            ]
          },
          "metadata": {
            "tags": []
          },
          "execution_count": 46
        },
        {
          "output_type": "display_data",
          "data": {
            "image/png": "[encoded data removed]",
            "text/plain": [
              "<Figure size 432x288 with 1 Axes>"
            ]
          },
          "metadata": {
            "tags": []
          }
        }
      ]
    },
    {
      "cell_type": "markdown",
      "metadata": {
        "id": "gULkVHnGeasm"
      },
      "source": [
        "## Generation"
      ]
    },
    {
      "cell_type": "code",
      "metadata": {
        "id": "zNZGaA3FUTFE"
      },
      "source": [
        "context_strs = [\"During its first decade , the newly formed Irish Free State was governed by the victors of the civil war . When de Valera achieved power , he took advantage of the <unk> of Westminster and political circumstances to build upon <unk> to greater sovereignty made by the previous government .\",\n",
        "                \"Northern Ireland was created as a division of the United Kingdom by the Government of Ireland Act 1920 and until 1972 it was a self @-@ governing jurisdiction within the United Kingdom with its own parliament and prime minister .\",\n",
        "                \"The storm originated in an upper @-@ level low pressure system that moved southeastward from the central Great Plains into the Deep South of the United States .\",\n",
        "                \"The malignant cell in AML is the myeloblast . In normal <unk> , the myeloblast is an immature precursor of myeloid white blood cells ; a normal myeloblast will gradually mature into a mature white blood cell .\"\n",
        "]"
      ],
      "execution_count": null,
      "outputs": []
    },
    {
      "cell_type": "code",
      "metadata": {
        "id": "6Y4mdtE6UeEG"
      },
      "source": [
        "context_pieces = [sp.EncodeAsPieces(x) for x in context_strs]"
      ],
      "execution_count": null,
      "outputs": []
    },
    {
      "cell_type": "code",
      "metadata": {
        "id": "Zkz4DtUaUw04"
      },
      "source": [
        "context_ids = [[TEXT.vocab.stoi[s] for s in x] for x in context_pieces]\n",
        "\n",
        "inps = [torch.LongTensor(x).unsqueeze(1).to(device) for x in context_ids]"
      ],
      "execution_count": null,
      "outputs": []
    },
    {
      "cell_type": "code",
      "metadata": {
        "id": "cpoXEC2i2TMt"
      },
      "source": [
        "#code is from hugging_face/transformers\n",
        "\n",
        "def top_k_top_p_sampling(logits, top_k=0, top_p=1.0, filter_value=-float(\"Inf\"), min_tokens_to_keep=1):\n",
        "    if top_k > 0:\n",
        "        top_k = min(max(top_k, min_tokens_to_keep), logits.size(-1))  # Safety check\n",
        "        # Remove all tokens with a probability less than the last token of the top-k\n",
        "        indices_to_remove = logits < torch.topk(logits, top_k)[0][..., -1, None]\n",
        "        logits[indices_to_remove] = filter_value\n",
        "\n",
        "    if top_p < 1.0:\n",
        "        sorted_logits, sorted_indices = torch.sort(logits, descending=True)\n",
        "        cumulative_probs = torch.cumsum(nn.functional.softmax(sorted_logits, dim=-1), dim=-1)\n",
        "\n",
        "        # Remove tokens with cumulative probability above the threshold (token with 0 are kept)\n",
        "        sorted_indices_to_remove = cumulative_probs > top_p\n",
        "        if min_tokens_to_keep > 1:\n",
        "            # Keep at least min_tokens_to_keep (set to min_tokens_to_keep-1 because we add the first one below)\n",
        "            sorted_indices_to_remove[..., :min_tokens_to_keep] = 0\n",
        "        # Shift the indices to the right to keep also the first token above the threshold\n",
        "        sorted_indices_to_remove[..., 1:] = sorted_indices_to_remove[..., :-1].clone()\n",
        "        sorted_indices_to_remove[..., 0] = 0\n",
        "\n",
        "        # scatter sorted tensors to original indexing\n",
        "        indices_to_remove = sorted_indices_to_remove.scatter(1, sorted_indices, sorted_indices_to_remove)\n",
        "        logits[indices_to_remove] = filter_value\n",
        "    return torch.multinomial(torch.exp(logits), 1)"
      ],
      "execution_count": null,
      "outputs": []
    },
    {
      "cell_type": "code",
      "metadata": {
        "id": "YH1BnhsUP_ha"
      },
      "source": [
        "def argmax_sampling(logits):\n",
        "    return top_k_top_p_sampling(logits, top_k=1)"
      ],
      "execution_count": null,
      "outputs": []
    },
    {
      "cell_type": "code",
      "metadata": {
        "id": "OybfwhtOQJ4u"
      },
      "source": [
        "def temperature_sampling(logits, t=1.0):\n",
        "    return top_k_top_p_sampling(logits * (1 / t), top_p=1.0)"
      ],
      "execution_count": null,
      "outputs": []
    },
    {
      "cell_type": "code",
      "metadata": {
        "id": "4Mvon04DFbq2"
      },
      "source": [
        "def sample_sequence(model, context, sample_method, continuation_length=150):\n",
        "    continuation_length = context.size(0)\n",
        "    past = context\n",
        "    model.hidden = None\n",
        "\n",
        "    out = model(past.to(device))\n",
        "    next_token = sample_method(out[-1, :, :])\n",
        "    gen = next_token\n",
        "    past = torch.cat([past, next_token], 0)\n",
        "    for _ in range(continuation_length-1):\n",
        "        if next_token.item() == TEXT.vocab.stoi['<eos>']:\n",
        "          break\n",
        "        out = model(next_token)\n",
        "        next_token = sample_method(out[-1, :, :])\n",
        "        past = torch.cat([past, next_token], 0)\n",
        "        gen = torch.cat([gen, next_token], 0)\n",
        "    return past, gen"
      ],
      "execution_count": null,
      "outputs": []
    },
    {
      "cell_type": "code",
      "metadata": {
        "id": "dPVYRrrh8kZV"
      },
      "source": [
        "def continue_strs(inps, sample_method):\n",
        "    for i, inp in enumerate(inps):\n",
        "        str_gen = \"\"\n",
        "        while len(str_gen.split()) < 20:\n",
        "            cat, gen = sample_sequence(model, inp, sample_method)\n",
        "            str_gen = sp.DecodePieces([TEXT.vocab.itos[i] for i in gen[:, 0].tolist()])\n",
        "        print('Context: ', context_strs[i])\n",
        "        print('Continuation: ', sp.DecodePieces([TEXT.vocab.itos[i] for i in gen[:, 0].tolist()]))\n",
        "        print()"
      ],
      "execution_count": null,
      "outputs": []
    },
    {
      "cell_type": "markdown",
      "metadata": {
        "id": "SsrqtIzdtg_q"
      },
      "source": [
        "## topk"
      ]
    },
    {
      "cell_type": "code",
      "metadata": {
        "id": "gkD3HAxGa2Cp",
        "colab": {
          "base_uri": "https://localhost:8080/",
          "height": 802
        },
        "outputId": "84c6f055-6c43-4b0c-ea65-2318b559eaa8"
      },
      "source": [
        "for k in [3, 8, 14]:\n",
        "    print(f'\\n=== k = {k} ===\\n')\n",
        "    method = lambda x: top_k_top_p_sampling(x, top_k=k)\n",
        "    continue_strs(inps, method)"
      ],
      "execution_count": null,
      "outputs": [
        {
          "output_type": "stream",
          "text": [
            "\n",
            "=== k = 3 ===\n",
            "\n",
            "Context:  During its first decade , the newly formed Irish Free State was governed by the victors of the civil war . When de Valera achieved power , he took advantage of the <unk> of Westminster and political circumstances to build upon <unk> to greater sovereignty made by the previous government .\n",
            "Continuation:  they was a fascist , known as a <unk> and <unk> bin <unk> . thetheless of <unk> <unk> and the latter was appointed for the president of the▁hawaiian .<eos>\n",
            "\n",
            "Context:  Northern Ireland was created as a division of the United Kingdom by the Government of Ireland Act 1920 and until 1972 it was a self @-@ governing jurisdiction within the United Kingdom with its own parliament and prime minister .\n",
            "Continuation:  the first times , the <unk> also had a reputation and also known as a <unk> of <unk> , and <unk> the latter of the games .<eos>\n",
            "\n",
            "Context:  The storm originated in an upper @-@ level low pressure system that moved southeastward from the central Great Plains into the Deep South of the United States .\n",
            "Continuation:  in a 1970 , and also also received a newly populated version of a <unk> <unk> to <unk> . they\n",
            "\n",
            "Context:  The malignant cell in AML is the myeloblast . In normal <unk> , the myeloblast is an immature precursor of myeloid white blood cells ; a normal myeloblast will gradually mature into a mature white blood cell .\n",
            "Continuation:  incubation , the noisy miner appellations are the most of those of <unk> , and they are <unk> . the pore is a way to the west coast of the mountains and <unk>\n",
            "\n",
            "\n",
            "=== k = 8 ===\n",
            "\n",
            "Context:  During its first decade , the newly formed Irish Free State was governed by the victors of the civil war . When de Valera achieved power , he took advantage of the <unk> of Westminster and political circumstances to build upon <unk> to greater sovereignty made by the previous government .\n",
            "Continuation:  the <unk> of the city was not to be then 's rebellion of knowledge , and was d to be built on▁september 8 , 19 , the season of the club was able , and the contestants <unk> and <unk> in <unk> <unk> .<eos>\n",
            "\n",
            "Context:  Northern Ireland was created as a division of the United Kingdom by the Government of Ireland Act 1920 and until 1972 it was a self @-@ governing jurisdiction within the United Kingdom with its own parliament and prime minister .\n",
            "Continuation:  theirs had been established the▁democratic university of the <unk> @-@ priest of king▁henry , and henderson ,▁louisiana ( 1967 , and 1 @,@ 3 feet 2 – 0 . <\n",
            "\n",
            "Context:  The storm originated in an upper @-@ level low pressure system that moved southeastward from the central Great Plains into the Deep South of the United States .\n",
            "Continuation:  theseclusion ton was a large in the first of the <unk> , and they believed that the airline was ashore in the area 's gate\n",
            "\n",
            "Context:  The malignant cell in AML is the myeloblast . In normal <unk> , the myeloblast is an immature precursor of myeloid white blood cells ; a normal myeloblast will gradually mature into a mature white blood cell .\n",
            "Continuation:  <unk> is the <unk> then and often to have a <unk> . they is a large herbivore ( hyaline , and the latter has been founded by 1 @,@ 300 ft\n",
            "\n",
            "\n",
            "=== k = 14 ===\n",
            "\n",
            "Context:  During its first decade , the newly formed Irish Free State was governed by the victors of the civil war . When de Valera achieved power , he took advantage of the <unk> of Westminster and political circumstances to build upon <unk> to greater sovereignty made by the previous government .\n",
            "Continuation:  he would have no indications of other things . in the films , he had a \" <unk> \" . in this episodes the album is \" <unk> \" ( # 23 to the first album , the also featured for a week .<eos>\n",
            "\n",
            "Context:  Northern Ireland was created as a division of the United Kingdom by the Government of Ireland Act 1920 and until 1972 it was a self @-@ governing jurisdiction within the United Kingdom with its own parliament and prime minister .\n",
            "Continuation:  in march 1970 , she is to use the large landowner of the cathedral of the▁polish @-@ language , although it is about 1000 . the new owners at number 3 – 11 , the assembly 's best\n",
            "\n",
            "Context:  The storm originated in an upper @-@ level low pressure system that moved southeastward from the central Great Plains into the Deep South of the United States .\n",
            "Continuation:  these to find the arsenal was held in▁england 's first year @-@ end of the season , but he did not regretangled by his wife \n",
            "\n",
            "Context:  The malignant cell in AML is the myeloblast . In normal <unk> , the myeloblast is an immature precursor of myeloid white blood cells ; a normal myeloblast will gradually mature into a mature white blood cell .\n",
            "Continuation:  ▁this has the first roller coasters between @-@ shape <unk> and <unk> with the cell @-@ shrine , as they once with a few year of the venom , with the <unk\n",
            "\n"
          ],
          "name": "stdout"
        }
      ]
    },
    {
      "cell_type": "markdown",
      "metadata": {
        "id": "8BU0XtQNuJVN"
      },
      "source": [
        "## Nucleus sampling"
      ]
    },
    {
      "cell_type": "code",
      "metadata": {
        "id": "xDPQL4-ndRKA",
        "colab": {
          "base_uri": "https://localhost:8080/",
          "height": 1000
        },
        "outputId": "3e251e12-aee4-4bc4-ffcb-d6d19678e672"
      },
      "source": [
        "for p in [0.3, 0.7, 0.9, 0.96]:\n",
        "    print(f'\\n=== p = {p} ===\\n')\n",
        "    method = lambda x: top_k_top_p_sampling(x, top_p=p)\n",
        "    continue_strs(inps, method)"
      ],
      "execution_count": null,
      "outputs": [
        {
          "output_type": "stream",
          "text": [
            "\n",
            "=== p = 0.3 ===\n",
            "\n",
            "Context:  During its first decade , the newly formed Irish Free State was governed by the victors of the civil war . When de Valera achieved power , he took advantage of the <unk> of Westminster and political circumstances to build upon <unk> to greater sovereignty made by the previous government .\n",
            "Continuation:  the route was moved to the state of the northern , and the▁british submarine corps and <unk> were diverted to protect them to the construction of the battalion , in the end of the territory , but they 're vehe <unk> a new line of the new building , but <unk> of the <\n",
            "\n",
            "Context:  Northern Ireland was created as a division of the United Kingdom by the Government of Ireland Act 1920 and until 1972 it was a self @-@ governing jurisdiction within the United Kingdom with its own parliament and prime minister .\n",
            "Continuation:  they of the▁british novelist <unk> , the first <unk> of the▁british government , in the establishment of the royal navy , <unk> , the <unk> , the the <unk>\n",
            "\n",
            "Context:  The storm originated in an upper @-@ level low pressure system that moved southeastward from the central Great Plains into the Deep South of the United States .\n",
            "Continuation:  in the 1950 , the▁british government were used by the <unk> and <unk> , the property , the czechs and would have\n",
            "\n",
            "Context:  The malignant cell in AML is the myeloblast . In normal <unk> , the myeloblast is an immature precursor of myeloid white blood cells ; a normal myeloblast will gradually mature into a mature white blood cell .\n",
            "Continuation:  the nasals of the <unk> <unk> , is also known as the <unk> of <unk> . the <unk> is cylindrical , and thus a <unk> <\n",
            "\n",
            "\n",
            "=== p = 0.7 ===\n",
            "\n",
            "Context:  During its first decade , the newly formed Irish Free State was governed by the victors of the civil war . When de Valera achieved power , he took advantage of the <unk> of Westminster and political circumstances to build upon <unk> to greater sovereignty made by the previous government .\n",
            "Continuation:  after they were higher than the campaign to be killed , and altered the plan to the outside what <unk> . under the port of the storm .▁this airline allowed a reinforced for▁switzere and <unk> @-@ 36 in order to be authorized with the people of▁l. indigo ( 11 @\n",
            "\n",
            "Context:  Northern Ireland was created as a division of the United Kingdom by the Government of Ireland Act 1920 and until 1972 it was a self @-@ governing jurisdiction within the United Kingdom with its own parliament and prime minister .\n",
            "Continuation:  after the university of▁maryang▁san▁francisco was dedicated to secure 1816 to meet the conclusions with <unk> ( <unk> <unk> road , to be able to gain a garrisoning campaign .\n",
            "\n",
            "Context:  The storm originated in an upper @-@ level low pressure system that moved southeastward from the central Great Plains into the Deep South of the United States .\n",
            "Continuation:  in 1994 , has been described by \" <unk> \" <unk> , it was about its release on may be produced by <unk>\n",
            "\n",
            "Context:  The malignant cell in AML is the myeloblast . In normal <unk> , the myeloblast is an immature precursor of myeloid white blood cells ; a normal myeloblast will gradually mature into a mature white blood cell .\n",
            "Continuation:  the nave is also known to <unk> , <unk> and greatest and under @-@ emitted fixed . the genetic code was poured at <unk> of <unk> or indirectate .\n",
            "\n",
            "\n",
            "=== p = 0.9 ===\n",
            "\n",
            "Context:  During its first decade , the newly formed Irish Free State was governed by the victors of the civil war . When de Valera achieved power , he took advantage of the <unk> of Westminster and political circumstances to build upon <unk> to greater sovereignty made by the previous government .\n",
            "Continuation:  the▁manchester council institute of all elects▁scottish destroyers signed marching the sean▁connery in the bids but was one of a 12 incumbent . the 2007 of the following season had kept a special effect , which thenty , <unk> <unk> , they had abandoned its peak . the\n",
            "\n",
            "Context:  Northern Ireland was created as a division of the United Kingdom by the Government of Ireland Act 1920 and until 1972 it was a self @-@ governing jurisdiction within the United Kingdom with its own parliament and prime minister .\n",
            "Continuation:  ▁earthquake until concluded with the the horn 's satirical relationship with▁masar music . \" as they may require of thesecular skills in the past or the children 's▁sanskrit patriarch and was still could suggest for \n",
            "\n",
            "Context:  The storm originated in an upper @-@ level low pressure system that moved southeastward from the central Great Plains into the Deep South of the United States .\n",
            "Continuation:  <unk> to a male sentences ( <unk> ) to produce burnings within in the▁highlands . the supporting technique was an inspiration\n",
            "\n",
            "Context:  The malignant cell in AML is the myeloblast . In normal <unk> , the myeloblast is an immature precursor of myeloid white blood cells ; a normal myeloblast will gradually mature into a mature white blood cell .\n",
            "Continuation:  the eggs were chosen into brick within <unk> and other churches from▁wikipedia ( a no fewer @-@ century , tracking nearly shoulders . although the formation were part of the north\n",
            "\n",
            "\n",
            "=== p = 0.96 ===\n",
            "\n",
            "Context:  During its first decade , the newly formed Irish Free State was governed by the victors of the civil war . When de Valera achieved power , he took advantage of the <unk> of Westminster and political circumstances to build upon <unk> to greater sovereignty made by the previous government .\n",
            "Continuation:  ▁federer was considered his 51 @-@ yard division rushn▁wilson returned to a distance for the nintendo▁ds▁lites , \" counter @-@ kn @-@ to single player in what we was thought exciting but back to them on pawnee▁lopez 's▁shiva to the kiss used in what could not ... a\n",
            "\n",
            "Context:  Northern Ireland was created as a division of the United Kingdom by the Government of Ireland Act 1920 and until 1972 it was a self @-@ governing jurisdiction within the United Kingdom with its own parliament and prime minister .\n",
            "Continuation:  the entirep had received the terms as great consensus to the▁city , triing to keep and affirmed him . once as the son of bases after the second of war , the 1960sren won a year until ,\n",
            "\n",
            "Context:  The storm originated in an upper @-@ level low pressure system that moved southeastward from the central Great Plains into the Deep South of the United States .\n",
            "Continuation:  ▁until the end , the highwayted this in the game . while , county prefects had gone , under the command of six in▁georgia to be in\n",
            "\n",
            "Context:  The malignant cell in AML is the myeloblast . In normal <unk> , the myeloblast is an immature precursor of myeloid white blood cells ; a normal myeloblast will gradually mature into a mature white blood cell .\n",
            "Continuation:  \" had collaborated from their construction , including cycle is lists between junín sea ; the plans to the house , the <unk> , the very massive district is under the place of oldhamattiq\n",
            "\n"
          ],
          "name": "stdout"
        }
      ]
    },
    {
      "cell_type": "markdown",
      "metadata": {
        "id": "VU_t613YufyQ"
      },
      "source": [
        "## Argmax"
      ]
    },
    {
      "cell_type": "code",
      "metadata": {
        "id": "Psip6qsX7IY4",
        "colab": {
          "base_uri": "https://localhost:8080/",
          "height": 241
        },
        "outputId": "819fb287-7ddf-48d5-a231-79d04e576949"
      },
      "source": [
        "method = argmax_sampling\n",
        "continue_strs(inps, method)"
      ],
      "execution_count": null,
      "outputs": [
        {
          "output_type": "stream",
          "text": [
            "Context:  During its first decade , the newly formed Irish Free State was governed by the victors of the civil war . When de Valera achieved power , he took advantage of the <unk> of Westminster and political circumstances to build upon <unk> to greater sovereignty made by the previous government .\n",
            "Continuation:  they were <unk> , and the▁austrian <unk> <unk> <unk> , <unk> ( <unk> <unk> ) , and they <unk> ( <unk> <unk> ) , and <unk> <unk> <unk> ,\n",
            "\n",
            "Context:  Northern Ireland was created as a division of the United Kingdom by the Government of Ireland Act 1920 and until 1972 it was a self @-@ governing jurisdiction within the United Kingdom with its own parliament and prime minister .\n",
            "Continuation:  they were not <unk> in the <unk> , whose idol , they were able to win the games . they was released in the▁united states , and the▁united states , they were <\n",
            "\n",
            "Context:  The storm originated in an upper @-@ level low pressure system that moved southeastward from the central Great Plains into the Deep South of the United States .\n",
            "Continuation:  the first time , the▁american civil war▁ii , the <unk> of the <unk> was built in the <unk> . the <unk\n",
            "\n",
            "Context:  The malignant cell in AML is the myeloblast . In normal <unk> , the myeloblast is an immature precursor of myeloid white blood cells ; a normal myeloblast will gradually mature into a mature white blood cell .\n",
            "Continuation:  the <unk> of the <unk> is a <unk> , and then <unk> @-@ <unk> <unk> <unk> ( <unk> ) , the \n",
            "\n"
          ],
          "name": "stdout"
        }
      ]
    },
    {
      "cell_type": "markdown",
      "metadata": {
        "id": "XeW7CGQWuiQB"
      },
      "source": [
        "## With temperature"
      ]
    },
    {
      "cell_type": "code",
      "metadata": {
        "id": "2TG3ithxumyH",
        "colab": {
          "base_uri": "https://localhost:8080/",
          "height": 802
        },
        "outputId": "3f359c11-4879-4938-baaa-86c552893508"
      },
      "source": [
        "for t in [0.5, 0.7, 0.8]:\n",
        "    print(f'\\n=== t = {t} ===\\n')\n",
        "    method = lambda x: temperature_sampling(x, t=t)\n",
        "    continue_strs(inps, method)"
      ],
      "execution_count": null,
      "outputs": [
        {
          "output_type": "stream",
          "text": [
            "\n",
            "=== t = 0.5 ===\n",
            "\n",
            "Context:  During its first decade , the newly formed Irish Free State was governed by the victors of the civil war . When de Valera achieved power , he took advantage of the <unk> of Westminster and political circumstances to build upon <unk> to greater sovereignty made by the previous government .\n",
            "Continuation:  the same year , the company 's <unk> of the▁soviet union had to attack the rights from the south . the army was taken to the north of the south of▁trotternte and <unk> , and a largely on the west coast of the south . the hurricane centers were built as a result\n",
            "\n",
            "Context:  Northern Ireland was created as a division of the United Kingdom by the Government of Ireland Act 1920 and until 1972 it was a self @-@ governing jurisdiction within the United Kingdom with its own parliament and prime minister .\n",
            "Continuation:  then use of the first time was noted in the early election . in the <unk> , <unk> <unk> <unk> of the▁isle <unk> @-@ priest of the <\n",
            "\n",
            "Context:  The storm originated in an upper @-@ level low pressure system that moved southeastward from the central Great Plains into the Deep South of the United States .\n",
            "Continuation:  they were the first minister of a new▁zealand mounted rifle brigades . the route was also held on the side of the town of the▁atlantic ocean basin\n",
            "\n",
            "Context:  The malignant cell in AML is the myeloblast . In normal <unk> , the myeloblast is an immature precursor of myeloid white blood cells ; a normal myeloblast will gradually mature into a mature white blood cell .\n",
            "Continuation:  the <unk> <unk> , also vary into the soil with a limited trees of the <unk> . then are also to have been well @-@ <unk> by <unk>\n",
            "\n",
            "\n",
            "=== t = 0.7 ===\n",
            "\n",
            "Context:  During its first decade , the newly formed Irish Free State was governed by the victors of the civil war . When de Valera achieved power , he took advantage of the <unk> of Westminster and political circumstances to build upon <unk> to greater sovereignty made by the previous government .\n",
            "Continuation:  she was axis commander of the command 's launched to bid . they followed the metallurgy <unk> , was established by rebels , the bullth marine brigade . if just because of the ship was the focus of the▁british submarine , in the lasted , with the first @-@ year @-@\n",
            "\n",
            "Context:  Northern Ireland was created as a division of the United Kingdom by the Government of Ireland Act 1920 and until 1972 it was a self @-@ governing jurisdiction within the United Kingdom with its own parliament and prime minister .\n",
            "Continuation:  the company was also known as▁mary as a revolution to be seen as a new of the king of▁dubliners and <unk> <unk> <unk> – 10 in a <unk> day ,\n",
            "\n",
            "Context:  The storm originated in an upper @-@ level low pressure system that moved southeastward from the central Great Plains into the Deep South of the United States .\n",
            "Continuation:  she is nothing to ben 's better register . the first black is the first men of the <unk> of the corridors of many people (\n",
            "\n",
            "Context:  The malignant cell in AML is the myeloblast . In normal <unk> , the myeloblast is an immature precursor of myeloid white blood cells ; a normal myeloblast will gradually mature into a mature white blood cell .\n",
            "Continuation:  these are clusters of▁egyptian religions , the first known in the battle of▁valkyria chronicle , which were also reported that he founded a semblunk> <unk> ( <unk> ( \n",
            "\n",
            "\n",
            "=== t = 0.8 ===\n",
            "\n",
            "Context:  During its first decade , the newly formed Irish Free State was governed by the victors of the civil war . When de Valera achieved power , he took advantage of the <unk> of Westminster and political circumstances to build upon <unk> to greater sovereignty made by the previous government .\n",
            "Continuation:  he became the first major match to replace the cabinet . the royal army had been established in evidence , so bay and not the possibility of commerce and the center .<eos>\n",
            "\n",
            "Context:  Northern Ireland was created as a division of the United Kingdom by the Government of Ireland Act 1920 and until 1972 it was a self @-@ governing jurisdiction within the United Kingdom with its own parliament and prime minister .\n",
            "Continuation:  his <unk> was all of the name of its predecessors , although a key of the specific 's work being a second .<eos>\n",
            "\n",
            "Context:  The storm originated in an upper @-@ level low pressure system that moved southeastward from the central Great Plains into the Deep South of the United States .\n",
            "Continuation:  the world cup was built in the 19th century . he before deng ,▁arkansas required that they were forced by the benefit superstructure . \n",
            "\n",
            "Context:  The malignant cell in AML is the myeloblast . In normal <unk> , the myeloblast is an immature precursor of myeloid white blood cells ; a normal myeloblast will gradually mature into a mature white blood cell .\n",
            "Continuation:  it was several speciess , and shortly consumed a new landslides . it is a pale @-@ mysterious graph , triangular▁braathens have a significant shortage of rich crops with poor supplying preys , the museum of\n",
            "\n"
          ],
          "name": "stdout"
        }
      ]
    },
    {
      "cell_type": "code",
      "metadata": {
        "id": "qPwZ5Tfyup55"
      },
      "source": [
        ""
      ],
      "execution_count": null,
      "outputs": []
    },
    {
      "cell_type": "code",
      "metadata": {
        "id": "8g1NN6bcup9t"
      },
      "source": [
        ""
      ],
      "execution_count": null,
      "outputs": []
    }
  ]
}